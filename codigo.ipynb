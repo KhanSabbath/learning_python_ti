{
 "cells": [
  {
   "cell_type": "code",
   "execution_count": null,
   "id": "695027f3",
   "metadata": {
    "vscode": {
     "languageId": "plaintext"
    }
   },
   "outputs": [],
   "source": [
    "print('hellow world')"
   ]
  }
 ],
 "metadata": {
  "language_info": {
   "name": "python"
  }
 },
 "nbformat": 4,
 "nbformat_minor": 5
}
